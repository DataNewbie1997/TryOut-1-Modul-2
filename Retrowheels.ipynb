{
 "metadata": {
  "language_info": {
   "codemirror_mode": {
    "name": "ipython",
    "version": 3
   },
   "file_extension": ".py",
   "mimetype": "text/x-python",
   "name": "python",
   "nbconvert_exporter": "python",
   "pygments_lexer": "ipython3",
   "version": "3.9.0"
  },
  "orig_nbformat": 2,
  "kernelspec": {
   "name": "python390jvsc74a57bd0f2328d14cb022733d959e9900ce1a07f7e432ee54d0c205324b3a5efb27b2e84",
   "display_name": "Python 3.9.0 64-bit"
  },
  "metadata": {
   "interpreter": {
    "hash": "f2328d14cb022733d959e9900ce1a07f7e432ee54d0c205324b3a5efb27b2e84"
   }
  }
 },
 "nbformat": 4,
 "nbformat_minor": 2,
 "cells": [
  {
   "cell_type": "code",
   "execution_count": 1,
   "metadata": {},
   "outputs": [],
   "source": [
    "import mysql.connector\n",
    "import pandas as pd"
   ]
  },
  {
   "cell_type": "code",
   "execution_count": 2,
   "metadata": {},
   "outputs": [],
   "source": [
    "mydb = mysql.connector.connect(\n",
    "    host = 'localhost',\n",
    "    user = 'root',\n",
    "    passwd = 'Belajardatascience2021!',\n",
    "    database = 'retrowheels'\n",
    ")"
   ]
  },
  {
   "cell_type": "code",
   "execution_count": 4,
   "metadata": {},
   "outputs": [],
   "source": [
    "mycursor = mydb.cursor()\n",
    "\n",
    "query1 = 'SELECT COUNT(COUNTRY) AS Customers,COUNT(DISTINCT COUNTRY) AS Countries, COUNT(DISTINCT CITY) AS Cities From Customers;'\n",
    "\n",
    "query2 = 'mysql> SELECT (SELECT COUNT(employeeNumber) FROM employees) AS Employees, (SELECT COUNT(officeCode) FROM offices) AS Offices, (SELECT COUNT(DISTINCT country) FROM offices) AS Country, (SELECT COUNT(DISTINCT productName) FROM products) AS Products, (SELECT SUM(quantityInStock) FROM products) AS StockProducts, (SELECT COUNT(DISTINCT productVendor) FROM products) AS Vendors;'\n",
    "\n",
    "query3 = 'mysql> select distinct productline, min(buyPrice) as minPrice, max(buyPrice) as MaxPrice from products group by productLine;'\n",
    "\n",
    "query4 = 'mysql> select customerName, city, country, sum(amount) as total from customers, payments where customers.customernumber = payments.customernumber group by customers.customernumber order by total desc limit 10;'\n",
    "\n",
    "query5 = ''\n",
    "\n",
    "mycursor.execute(query1,query2,query3)\n",
    "\n",
    "result = mycursor.fetchall()\n",
    "\n",
    "df = pd.DataFrame(result, columns = mycursor.column_names)"
   ]
  },
  {
   "cell_type": "code",
   "execution_count": null,
   "metadata": {},
   "outputs": [],
   "source": []
  }
 ]
}